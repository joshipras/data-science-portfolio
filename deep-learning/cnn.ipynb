{
 "cells": [
  {
   "cell_type": "code",
   "execution_count": null,
   "metadata": {
    "collapsed": true
   },
   "outputs": [],
   "source": [
    "# Image Classification using Convolutional Neural Network architecture\n",
    "\n"
   ]
  },
  {
   "cell_type": "code",
   "execution_count": 20,
   "metadata": {},
   "outputs": [],
   "source": [
    "# Import libraries\n",
    "# Import libraries\n",
    "\n",
    "import os\n",
    "import keras\n",
    "import tensorflow as tf\n",
    "import matplotlib.pyplot as plt\n",
    "import numpy as np\n",
    "import pandas as pd\n",
    "from sklearn import datasets\n",
    "import matplotlib.pyplot as plt\n",
    "from keras.utils import np_utils\n",
    "from keras.layers.normalization import BatchNormalization\n",
    "from keras.models import Sequential\n",
    "from keras.utils import np_utils\n",
    "from keras.initializers import Constant\n",
    "from keras.layers import Conv2D, Flatten, MaxPool2D, Dense, Activation, ZeroPadding2D,Input,InputLayer,Dropout\n",
    "from keras.models import save_model, load_model\n",
    "from keras.preprocessing.image import load_img, array_to_img, img_to_array\n",
    "from keras.models import Model,Sequential\n",
    "from keras.utils import to_categorical\n",
    "from sklearn.model_selection import GridSearchCV\n",
    "from keras.wrappers.scikit_learn import KerasClassifier\n",
    "from keras.optimizers import Adam\n",
    "from sklearn.preprocessing import LabelEncoder,OneHotEncoder\n",
    "os.chdir(\"/home/pjoshi/github/extras/CNN\")\n"
   ]
  },
  {
   "cell_type": "code",
   "execution_count": 21,
   "metadata": {
    "collapsed": true
   },
   "outputs": [],
   "source": [
    "data_train = pd.read_csv('fashion-mnist_train.csv')\n",
    "data_test = pd.read_csv('fashion-mnist_test.csv')"
   ]
  },
  {
   "cell_type": "code",
   "execution_count": 22,
   "metadata": {
    "collapsed": true
   },
   "outputs": [],
   "source": [
    "# Reshape the training dataset "
   ]
  },
  {
   "cell_type": "code",
   "execution_count": 23,
   "metadata": {
    "collapsed": true
   },
   "outputs": [],
   "source": [
    "img_rows, img_cols = 28, 28\n",
    "input_shape = (img_rows, img_cols, 1)\n",
    "X = np.array(data_train.iloc[:, 1:])\n",
    "X = X.reshape(X.shape[0], img_rows, img_cols, 1)\n",
    "y = np_utils.to_categorical(np.array(data_train.iloc[:, 0:1]))"
   ]
  },
  {
   "cell_type": "code",
   "execution_count": 24,
   "metadata": {
    "collapsed": true
   },
   "outputs": [],
   "source": [
    "X_test = np.array(data_test.iloc[:, 1:])\n",
    "X_test = X_test.reshape(X_test.shape[0], img_rows, img_cols, 1)\n",
    "y_test = to_categorical(np.array(data_test.iloc[:, 0:1])) \n",
    "\n",
    "X = X.astype('float32') \n",
    "X_test = X_test.astype('float32') \n",
    "X /= 255\n",
    "X_test /= 255"
   ]
  },
  {
   "cell_type": "code",
   "execution_count": 25,
   "metadata": {
    "collapsed": true
   },
   "outputs": [],
   "source": [
    "def train_model(shape=(28, 28, 1), num_classes=10):\n",
    "    X_input = Input(shape=shape)\n",
    "\n",
    "    \n",
    "    X = Conv2D(32,\n",
    "               kernel_size=(3, 3),\n",
    "               activation='relu',\n",
    "               kernel_initializer='he_normal',\n",
    "               input_shape=input_shape)(X_input)\n",
    "    X = MaxPool2D(pool_size=(2, 2))(X)\n",
    "    X = Dropout(0.25)(X)\n",
    "    X = Conv2D(64, (3, 3), activation='relu')(X)\n",
    "    X = MaxPool2D(pool_size=(2, 2))(X)\n",
    "    X = Dropout(0.3)(X)\n",
    "    X = Conv2D(128, (3, 3), activation='relu')(X)\n",
    "    X = Dropout(0.5)(X)\n",
    "    X = Flatten()(X)\n",
    "    X = Dense(128, activation='relu')(X)\n",
    "    X = Dropout(0.5)(X)\n",
    "    X = Dense(num_classes, activation='softmax')(X)\n",
    "    model = Model(inputs=X_input, outputs=X, name=\"CNN\")\n",
    "    return model"
   ]
  },
  {
   "cell_type": "code",
   "execution_count": 26,
   "metadata": {},
   "outputs": [
    {
     "name": "stdout",
     "output_type": "stream",
     "text": [
      "Train on 57115 samples, validate on 577 samples\n",
      "Epoch 1/30\n",
      "57115/57115 [==============================] - 18s - loss: 0.1937 - acc: 0.9276 - val_loss: nan - val_acc: 0.9506\n",
      "Epoch 2/30\n",
      "57115/57115 [==============================] - 18s - loss: 0.1138 - acc: 0.9535 - val_loss: nan - val_acc: 0.9610\n",
      "Epoch 3/30\n",
      "57115/57115 [==============================] - 18s - loss: 0.0989 - acc: 0.9592 - val_loss: nan - val_acc: 0.9640\n",
      "Epoch 4/30\n",
      "57115/57115 [==============================] - 18s - loss: 0.0904 - acc: 0.9631 - val_loss: nan - val_acc: 0.9667\n",
      "Epoch 5/30\n",
      "57115/57115 [==============================] - 18s - loss: 0.0841 - acc: 0.9654 - val_loss: nan - val_acc: 0.9692\n",
      "Epoch 6/30\n",
      "57115/57115 [==============================] - 18s - loss: 0.0794 - acc: 0.9681 - val_loss: nan - val_acc: 0.9692\n",
      "Epoch 7/30\n",
      "57115/57115 [==============================] - 18s - loss: 0.0757 - acc: 0.9695 - val_loss: nan - val_acc: 0.9714\n",
      "Epoch 8/30\n",
      "57115/57115 [==============================] - 18s - loss: 0.0719 - acc: 0.9713 - val_loss: nan - val_acc: 0.9737\n",
      "Epoch 9/30\n",
      "57115/57115 [==============================] - 18s - loss: 0.0699 - acc: 0.9722 - val_loss: nan - val_acc: 0.9730\n",
      "Epoch 10/30\n",
      "57115/57115 [==============================] - 18s - loss: 0.0675 - acc: 0.9729 - val_loss: nan - val_acc: 0.9737\n",
      "Epoch 11/30\n",
      "57115/57115 [==============================] - 18s - loss: 0.0654 - acc: 0.9737 - val_loss: nan - val_acc: 0.9752\n",
      "Epoch 12/30\n",
      "57115/57115 [==============================] - 18s - loss: 0.0638 - acc: 0.9748 - val_loss: nan - val_acc: 0.9764\n",
      "Epoch 13/30\n",
      "57115/57115 [==============================] - 18s - loss: 0.0620 - acc: 0.9756 - val_loss: nan - val_acc: 0.9764\n",
      "Epoch 14/30\n",
      "57115/57115 [==============================] - 18s - loss: 0.0608 - acc: 0.9757 - val_loss: nan - val_acc: 0.9747\n",
      "Epoch 15/30\n",
      "57115/57115 [==============================] - 18s - loss: 0.0597 - acc: 0.9764 - val_loss: nan - val_acc: 0.9771\n",
      "Epoch 16/30\n",
      "57115/57115 [==============================] - 18s - loss: 0.0585 - acc: 0.9769 - val_loss: nan - val_acc: 0.9761\n",
      "Epoch 17/30\n",
      "57115/57115 [==============================] - 18s - loss: 0.0577 - acc: 0.9774 - val_loss: nan - val_acc: 0.9764\n",
      "Epoch 18/30\n",
      "57115/57115 [==============================] - 18s - loss: 0.0566 - acc: 0.9779 - val_loss: nan - val_acc: 0.9771\n",
      "Epoch 19/30\n",
      "57115/57115 [==============================] - 18s - loss: 0.0558 - acc: 0.9780 - val_loss: nan - val_acc: 0.9783\n",
      "Epoch 20/30\n",
      "57115/57115 [==============================] - 18s - loss: 0.0551 - acc: 0.9781 - val_loss: nan - val_acc: 0.9782\n",
      "Epoch 21/30\n",
      "57115/57115 [==============================] - 18s - loss: 0.0538 - acc: 0.9790 - val_loss: nan - val_acc: 0.9787\n",
      "Epoch 22/30\n",
      "57115/57115 [==============================] - 18s - loss: 0.0535 - acc: 0.9791 - val_loss: nan - val_acc: 0.9785\n",
      "Epoch 23/30\n",
      "57115/57115 [==============================] - 18s - loss: 0.0536 - acc: 0.9790 - val_loss: nan - val_acc: 0.9783\n",
      "Epoch 24/30\n",
      "57115/57115 [==============================] - 18s - loss: 0.0527 - acc: 0.9793 - val_loss: nan - val_acc: 0.9799\n",
      "Epoch 25/30\n",
      "57115/57115 [==============================] - 18s - loss: 0.0522 - acc: 0.9795 - val_loss: nan - val_acc: 0.9797\n",
      "Epoch 26/30\n",
      "57115/57115 [==============================] - 18s - loss: 0.0515 - acc: 0.9797 - val_loss: nan - val_acc: 0.9799\n",
      "Epoch 27/30\n",
      "57115/57115 [==============================] - 18s - loss: 0.0505 - acc: 0.9801 - val_loss: nan - val_acc: 0.9797\n",
      "Epoch 28/30\n",
      "57115/57115 [==============================] - 18s - loss: 0.0502 - acc: 0.9803 - val_loss: nan - val_acc: 0.9802\n",
      "Epoch 29/30\n",
      "57115/57115 [==============================] - 18s - loss: 0.0502 - acc: 0.9802 - val_loss: nan - val_acc: 0.9809\n",
      "Epoch 30/30\n",
      "57115/57115 [==============================] - 18s - loss: 0.0500 - acc: 0.9803 - val_loss: nan - val_acc: 0.9789\n"
     ]
    },
    {
     "data": {
      "text/plain": [
       "<keras.callbacks.History at 0x7f07b2e53e90>"
      ]
     },
     "execution_count": 26,
     "metadata": {},
     "output_type": "execute_result"
    }
   ],
   "source": [
    "model = train_model()\n",
    "model.compile(loss='binary_crossentropy', optimizer='adam', metrics=['accuracy'])\n",
    "model.fit(X,y,batch_size=1024, epochs=30,\n",
    "          validation_split =0.01)\n"
   ]
  },
  {
   "cell_type": "code",
   "execution_count": 30,
   "metadata": {},
   "outputs": [],
   "source": [
    "\n",
    "import matplotlib.pyplot as plt\n",
    "import numpy as np\n",
    "\n",
    "X2_train = pd.read_csv('fashion-mnist_train.csv')\n",
    "\n",
    "X2_train = np.array(X2_train.iloc[:, 1:])\n",
    "#X2_train, y2_train = mnist_reader.load_mnist(‘data/fashion’, kind=’train’)\n",
    "X3_train = X2_train.reshape(X2_train.shape[0], 1, 28, 28)\n",
    "\n"
   ]
  },
  {
   "cell_type": "code",
   "execution_count": null,
   "metadata": {
    "collapsed": true
   },
   "outputs": [],
   "source": [
    "# classes \n",
    "#0\tT-shirt/top\n",
    "#1\tTrouser\n",
    "#2\tPullover\n",
    "#3\tDress\n",
    "#4\tCoat\n",
    "#5\tSandal\n",
    "#6\tShirt\n",
    "#7\tSneaker\n",
    "#8\tBag\n",
    "#9\tAnkle boot"
   ]
  },
  {
   "cell_type": "code",
   "execution_count": 33,
   "metadata": {},
   "outputs": [
    {
     "data": {
      "image/png": "[encoded data removed]",
      "text/plain": [
       "<matplotlib.figure.Figure at 0x7f07b2cb66d0>"
      ]
     },
     "metadata": {},
     "output_type": "display_data"
    },
    {
     "data": {
      "text/plain": [
       "array([[ 0.21326925,  0.0192831 ,  0.1307362 ,  0.02264464,  0.11551749,\n",
       "         0.25303435,  0.09286338,  0.04200984,  0.03801447,  0.07262722]], dtype=float32)"
      ]
     },
     "execution_count": 33,
     "metadata": {},
     "output_type": "execute_result"
    }
   ],
   "source": [
    "#Code to do preview and prediction\n",
    "\n",
    "plt.subplot(222)\n",
    "img_number = 50\n",
    "plt.imshow(np.squeeze(X3_train[img_number], axis=0),cmap=plt.get_cmap('gray'))\n",
    "plt.show()\n",
    "clf.predict(np.expand_dims(X3_train[img_number], axis=0))"
   ]
  },
  {
   "cell_type": "code",
   "execution_count": 62,
   "metadata": {},
   "outputs": [
    {
     "data": {
      "image/png": "[encoded data removed]",
      "text/plain": [
       "<matplotlib.figure.Figure at 0x7f074776ea90>"
      ]
     },
     "metadata": {},
     "output_type": "display_data"
    },
    {
     "data": {
      "text/plain": [
       "array([[ 0.58427596,  0.00735493,  0.00105215,  0.0189042 ,  0.00243392,\n",
       "         0.13157761,  0.00177279,  0.02135747,  0.00080195,  0.23046905]], dtype=float32)"
      ]
     },
     "execution_count": 62,
     "metadata": {},
     "output_type": "execute_result"
    }
   ],
   "source": [
    "#Code to do preview and prediction\n",
    "\n",
    "plt.subplot(222)\n",
    "img_number = 10\n",
    "plt.imshow(np.squeeze(X3_train[img_number], axis=0),cmap=plt.get_cmap('gray'))\n",
    "plt.show()\n",
    "clf.predict(np.expand_dims(X3_train[img_number], axis=0))"
   ]
  },
  {
   "cell_type": "code",
   "execution_count": 40,
   "metadata": {},
   "outputs": [
    {
     "data": {
      "image/png": "[encoded data removed]",
      "text/plain": [
       "<matplotlib.figure.Figure at 0x7f0747845a90>"
      ]
     },
     "metadata": {},
     "output_type": "display_data"
    },
    {
     "data": {
      "text/plain": [
       "array([[ 0.14181238,  0.01897477,  0.11690673,  0.02524759,  0.03281223,\n",
       "         0.27960724,  0.05395802,  0.05905114,  0.00284189,  0.26878798]], dtype=float32)"
      ]
     },
     "execution_count": 40,
     "metadata": {},
     "output_type": "execute_result"
    }
   ],
   "source": [
    "plt.subplot(222)\n",
    "img_number = 56\n",
    "plt.imshow(np.squeeze(X3_train[img_number], axis=0),cmap=plt.get_cmap('gray'))\n",
    "plt.show()\n",
    "clf.predict(np.expand_dims(X3_train[img_number], axis=0))"
   ]
  },
  {
   "cell_type": "code",
   "execution_count": 44,
   "metadata": {},
   "outputs": [
    {
     "data": {
      "image/png": "[encoded data removed]",
      "text/plain": [
       "<matplotlib.figure.Figure at 0x7f0747934090>"
      ]
     },
     "metadata": {},
     "output_type": "display_data"
    },
    {
     "data": {
      "text/plain": [
       "array([[ 0.06730712,  0.00712029,  0.08150284,  0.00760865,  0.21908043,\n",
       "         0.25341752,  0.10345683,  0.08768871,  0.01479599,  0.15802166]], dtype=float32)"
      ]
     },
     "execution_count": 44,
     "metadata": {},
     "output_type": "execute_result"
    }
   ],
   "source": [
    "plt.subplot(222)\n",
    "img_number = 60\n",
    "plt.imshow(np.squeeze(X3_train[img_number], axis=0),cmap=plt.get_cmap('gray'))\n",
    "plt.show()\n",
    "clf.predict(np.expand_dims(X3_train[img_number], axis=0))"
   ]
  },
  {
   "cell_type": "code",
   "execution_count": 79,
   "metadata": {},
   "outputs": [
    {
     "data": {
      "image/png": "[encoded data removed]",
      "text/plain": [
       "<matplotlib.figure.Figure at 0x7f0795da3510>"
      ]
     },
     "metadata": {},
     "output_type": "display_data"
    },
    {
     "data": {
      "text/plain": [
       "array([[ 0.4203617 ,  0.01119438,  0.01304665,  0.12608837,  0.01972732,\n",
       "         0.13386218,  0.01583378,  0.03827314,  0.0041456 ,  0.21746689]], dtype=float32)"
      ]
     },
     "execution_count": 79,
     "metadata": {},
     "output_type": "execute_result"
    }
   ],
   "source": [
    "plt.subplot(222)\n",
    "img_number = 44\n",
    "plt.imshow(np.squeeze(X3_train[img_number], axis=0),cmap=plt.get_cmap('gray'))\n",
    "plt.show()\n",
    "clf.predict(np.expand_dims(X3_train[img_number], axis=0))"
   ]
  }
 ],
 "metadata": {
  "kernelspec": {
   "display_name": "Python 2",
   "language": "python",
   "name": "python2"
  },
  "language_info": {
   "codemirror_mode": {
    "name": "ipython",
    "version": 2
   },
   "file_extension": ".py",
   "mimetype": "text/x-python",
   "name": "python",
   "nbconvert_exporter": "python",
   "pygments_lexer": "ipython2",
   "version": "2.7.6"
  }
 },
 "nbformat": 4,
 "nbformat_minor": 2
}
